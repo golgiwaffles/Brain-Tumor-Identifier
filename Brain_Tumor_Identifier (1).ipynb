{
  "cells": [
    {
      "cell_type": "markdown",
      "source": [
        "Welcome,\n",
        "This is my 2nd Neural Network Project,\n",
        "here we train a network in order to detect whether a certain MRI scan of the brain consists a tumor or not.\n",
        "\n",
        "Through this project, I've utilised three datasets from kaggle and combined them into their appropriate classes, ending up with around 5000 images to work with(which would be even greater when the image gets augmented)\n",
        "\n",
        "The model ends up with a best validation accuracy of 98.57%,showing that even with a diverse set of datasets, be it validation or training, the model works well.\n",
        "\n"
      ],
      "metadata": {
        "id": "Ojt5yY0N8oF4"
      }
    },
    {
      "cell_type": "markdown",
      "source": [
        "Author: Skanda Vyas"
      ],
      "metadata": {
        "id": "OboMCV8mJg55"
      }
    },
    {
      "cell_type": "markdown",
      "source": [],
      "metadata": {
        "id": "-hx_WwupDWTb"
      }
    },
    {
      "cell_type": "code",
      "execution_count": null,
      "metadata": {
        "id": "bJiYvFQY7Jg1"
      },
      "outputs": [],
      "source": [
        "import os\n",
        "import zipfile\n",
        "import tensorflow as tf\n",
        "import random\n",
        "from shutil import copy2\n",
        "from tensorflow.keras.preprocessing.image import ImageDataGenerator\n",
        "from keras import regularizers\n",
        "import shutil"
      ]
    },
    {
      "cell_type": "markdown",
      "source": [
        "I uploaded the files to my dropbox, so we upload them from there"
      ],
      "metadata": {
        "id": "xzCEBKmy8myt"
      }
    },
    {
      "cell_type": "code",
      "execution_count": null,
      "metadata": {
        "id": "GlvibgzU7V4q",
        "colab": {
          "base_uri": "https://localhost:8080/"
        },
        "outputId": "9a246da6-e27c-45b9-a8fe-31823ead5706"
      },
      "outputs": [
        {
          "output_type": "stream",
          "name": "stdout",
          "text": [
            "--2023-06-28 15:51:58--  https://www.dropbox.com/s/ymd7eg2mucnm4hp/kjjj.zip?dl=0\n",
            "Resolving www.dropbox.com (www.dropbox.com)... 162.125.65.18, 2620:100:6021:18::a27d:4112\n",
            "Connecting to www.dropbox.com (www.dropbox.com)|162.125.65.18|:443... connected.\n",
            "HTTP request sent, awaiting response... 302 Found\n",
            "Location: /s/raw/ymd7eg2mucnm4hp/kjjj.zip [following]\n",
            "--2023-06-28 15:51:58--  https://www.dropbox.com/s/raw/ymd7eg2mucnm4hp/kjjj.zip\n",
            "Reusing existing connection to www.dropbox.com:443.\n",
            "HTTP request sent, awaiting response... 302 Found\n",
            "Location: https://uc394cd4555c706a39380768eeb9.dl.dropboxusercontent.com/cd/0/inline/B-1G5wCzlonJs-qt8dDRh1_YrwjZQtJXSSoYqAH1_3o6lDdKV-GS2gb2alqyB9RFa7v1NYY3UW5-wJNGiSeBxLxK69mU3ua7ib9wf7bwcI_4AVn8qsjk-RwHIba8UHsiBH7BE7nmz20rLdDFRORiuwNG9c52ypUgCRMmCnADyPP2-g/file# [following]\n",
            "--2023-06-28 15:51:59--  https://uc394cd4555c706a39380768eeb9.dl.dropboxusercontent.com/cd/0/inline/B-1G5wCzlonJs-qt8dDRh1_YrwjZQtJXSSoYqAH1_3o6lDdKV-GS2gb2alqyB9RFa7v1NYY3UW5-wJNGiSeBxLxK69mU3ua7ib9wf7bwcI_4AVn8qsjk-RwHIba8UHsiBH7BE7nmz20rLdDFRORiuwNG9c52ypUgCRMmCnADyPP2-g/file\n",
            "Resolving uc394cd4555c706a39380768eeb9.dl.dropboxusercontent.com (uc394cd4555c706a39380768eeb9.dl.dropboxusercontent.com)... 162.125.65.15, 2620:100:6021:15::a27d:410f\n",
            "Connecting to uc394cd4555c706a39380768eeb9.dl.dropboxusercontent.com (uc394cd4555c706a39380768eeb9.dl.dropboxusercontent.com)|162.125.65.15|:443... connected.\n",
            "HTTP request sent, awaiting response... 302 Found\n",
            "Location: /cd/0/inline2/B-08Vwrt0P7kSS4I38E6EO2RMW4cjtBB_IqfokAHb6gDRn0mrJsTI7ZVMNKcc6TwFvEaIz7cU5Pep26iNK671iDVmIvbNub65tL8NUIJNVc2cVqAKFIWkCtD84N9V2o1syhvX8Gm4CtNc6A6OygZEhWWVc2IVwR2mv3kcycm1V32YHhIKI8f7fTF_xEuUPSCVSyCUcjXFOvpLOiPbXjDxVSrP-bbJJvlDw8tVvbAM9xh0LwZ-PIuGo5p6JE0xSf0pwDRcwr-V8jfg8g5zwnE8aH102SagAohhE1TICOhdxNALjd7E-vs2MIoMp-WB4s7BzSEm0Oz7uO_nrvNvyx_IVg6syOCTa3BWx3sFxOrL7L4dAhW3MYLwlGyikCLFHBwUenUA2XC_pUMMzfHs0Ucq3bLsdYuXEgPKlFVoUmcO_kQLg/file [following]\n",
            "--2023-06-28 15:51:59--  https://uc394cd4555c706a39380768eeb9.dl.dropboxusercontent.com/cd/0/inline2/B-08Vwrt0P7kSS4I38E6EO2RMW4cjtBB_IqfokAHb6gDRn0mrJsTI7ZVMNKcc6TwFvEaIz7cU5Pep26iNK671iDVmIvbNub65tL8NUIJNVc2cVqAKFIWkCtD84N9V2o1syhvX8Gm4CtNc6A6OygZEhWWVc2IVwR2mv3kcycm1V32YHhIKI8f7fTF_xEuUPSCVSyCUcjXFOvpLOiPbXjDxVSrP-bbJJvlDw8tVvbAM9xh0LwZ-PIuGo5p6JE0xSf0pwDRcwr-V8jfg8g5zwnE8aH102SagAohhE1TICOhdxNALjd7E-vs2MIoMp-WB4s7BzSEm0Oz7uO_nrvNvyx_IVg6syOCTa3BWx3sFxOrL7L4dAhW3MYLwlGyikCLFHBwUenUA2XC_pUMMzfHs0Ucq3bLsdYuXEgPKlFVoUmcO_kQLg/file\n",
            "Reusing existing connection to uc394cd4555c706a39380768eeb9.dl.dropboxusercontent.com:443.\n",
            "HTTP request sent, awaiting response... 200 OK\n",
            "Length: 15828590 (15M) [application/zip]\n",
            "Saving to: ‘Tumors.zip’\n",
            "\n",
            "Tumors.zip          100%[===================>]  15.09M  20.6MB/s    in 0.7s    \n",
            "\n",
            "2023-06-28 15:52:00 (20.6 MB/s) - ‘Tumors.zip’ saved [15828590/15828590]\n",
            "\n",
            "--2023-06-28 15:52:00--  https://www.dropbox.com/s/vchsqodcr4oid49/archive%20%285%29.zip?dl=0\n",
            "Resolving www.dropbox.com (www.dropbox.com)... 162.125.65.18, 2620:100:6021:18::a27d:4112\n",
            "Connecting to www.dropbox.com (www.dropbox.com)|162.125.65.18|:443... connected.\n",
            "HTTP request sent, awaiting response... 302 Found\n",
            "Location: /s/raw/vchsqodcr4oid49/archive%20%285%29.zip [following]\n",
            "--2023-06-28 15:52:00--  https://www.dropbox.com/s/raw/vchsqodcr4oid49/archive%20%285%29.zip\n",
            "Reusing existing connection to www.dropbox.com:443.\n",
            "HTTP request sent, awaiting response... 302 Found\n",
            "Location: https://ucd5725e0e3ade981515074647ff.dl.dropboxusercontent.com/cd/0/inline/B-3CTDfiozpvYPS1D63pCkjvK_3X6KhwNJfT27DgW62yRZ2VtlmkESrwd67wmCVc09LrrtJWkS8Kk5E90t-hNqc4VpUQRUjrcYyYIn7oKwFoZiPIWr4usfpvfEMSGHr9ZVhMfT0hycsVxccnnQirnmro6-QZpDslfvYZ8TcGf1uz7Q/file# [following]\n",
            "--2023-06-28 15:52:01--  https://ucd5725e0e3ade981515074647ff.dl.dropboxusercontent.com/cd/0/inline/B-3CTDfiozpvYPS1D63pCkjvK_3X6KhwNJfT27DgW62yRZ2VtlmkESrwd67wmCVc09LrrtJWkS8Kk5E90t-hNqc4VpUQRUjrcYyYIn7oKwFoZiPIWr4usfpvfEMSGHr9ZVhMfT0hycsVxccnnQirnmro6-QZpDslfvYZ8TcGf1uz7Q/file\n",
            "Resolving ucd5725e0e3ade981515074647ff.dl.dropboxusercontent.com (ucd5725e0e3ade981515074647ff.dl.dropboxusercontent.com)... 162.125.70.15, 2620:100:6021:15::a27d:410f\n",
            "Connecting to ucd5725e0e3ade981515074647ff.dl.dropboxusercontent.com (ucd5725e0e3ade981515074647ff.dl.dropboxusercontent.com)|162.125.70.15|:443... connected.\n",
            "HTTP request sent, awaiting response... 302 Found\n",
            "Location: /cd/0/inline2/B-05kMoSPezUJrKCRbb8Cy1TxgBj3YgcioGkNwZ6t-_pEBO4B53dauEDF6zcN0gGrtigOZoSEhUemUihpWxUmckhjFoKO7tSSVE0-CBOxYFTf2IonDqZkIbTgG5ZISUyZcrD5np0IzKwGfEKrlnn-SaC9CyJHSU9O4Y0psTlvVNUQ1k33bEnOMhSqQCcFE2yCD-irz_qxN4s_Q67w-2UEof4QLJSOExe3U_1aBwk8YHiYx1WvvMGdIHnXwDNzRdNL7KacufxdEp724E_YIiXmCDeUH_YxNKLadsLO8WwRDOX2ymbpYL82IS3dAGCVMXxH8CiRhIkki8FYkoT0E6DP0EYqSDfY4BXvMZdbxeKLBcYOqKK6lQAFh18rPnYxjDUSAJRUy19o15Wcmb7hP31bZ1JybHaNpJSMeldnfV12uDRfw/file [following]\n",
            "--2023-06-28 15:52:01--  https://ucd5725e0e3ade981515074647ff.dl.dropboxusercontent.com/cd/0/inline2/B-05kMoSPezUJrKCRbb8Cy1TxgBj3YgcioGkNwZ6t-_pEBO4B53dauEDF6zcN0gGrtigOZoSEhUemUihpWxUmckhjFoKO7tSSVE0-CBOxYFTf2IonDqZkIbTgG5ZISUyZcrD5np0IzKwGfEKrlnn-SaC9CyJHSU9O4Y0psTlvVNUQ1k33bEnOMhSqQCcFE2yCD-irz_qxN4s_Q67w-2UEof4QLJSOExe3U_1aBwk8YHiYx1WvvMGdIHnXwDNzRdNL7KacufxdEp724E_YIiXmCDeUH_YxNKLadsLO8WwRDOX2ymbpYL82IS3dAGCVMXxH8CiRhIkki8FYkoT0E6DP0EYqSDfY4BXvMZdbxeKLBcYOqKK6lQAFh18rPnYxjDUSAJRUy19o15Wcmb7hP31bZ1JybHaNpJSMeldnfV12uDRfw/file\n",
            "Reusing existing connection to ucd5725e0e3ade981515074647ff.dl.dropboxusercontent.com:443.\n",
            "HTTP request sent, awaiting response... 200 OK\n",
            "Length: 67374128 (64M) [application/zip]\n",
            "Saving to: ‘Tumors2.zip’\n",
            "\n",
            "Tumors2.zip         100%[===================>]  64.25M  17.2MB/s    in 3.8s    \n",
            "\n",
            "2023-06-28 15:52:06 (16.9 MB/s) - ‘Tumors2.zip’ saved [67374128/67374128]\n",
            "\n",
            "--2023-06-28 15:52:06--  https://www.dropbox.com/s/d327vnslutc6c6z/archive%20%286%29.zip?dl=0\n",
            "Resolving www.dropbox.com (www.dropbox.com)... 162.125.65.18, 2620:100:6021:18::a27d:4112\n",
            "Connecting to www.dropbox.com (www.dropbox.com)|162.125.65.18|:443... connected.\n",
            "HTTP request sent, awaiting response... 302 Found\n",
            "Location: /s/raw/d327vnslutc6c6z/archive%20%286%29.zip [following]\n",
            "--2023-06-28 15:52:06--  https://www.dropbox.com/s/raw/d327vnslutc6c6z/archive%20%286%29.zip\n",
            "Reusing existing connection to www.dropbox.com:443.\n",
            "HTTP request sent, awaiting response... 302 Found\n",
            "Location: https://ucd25144d25f982191827ead2cee.dl.dropboxusercontent.com/cd/0/inline/B-3tNcHADd8KQBEPNi7f7jGpK7TVkDVCzWMKeT_NGwpHS-fQ7v_EQhgCYqUuCrI7vFtTVSnTL9nXCa465smdiu7Y1MLBUGj_yiWtxjCXiSR5aRUtzb4X4r4bguwW8uRfMYPRJkARo_qaPY0Ap3EAT4H5bYslEgbnpRwNJGkJ4Mah3Q/file# [following]\n",
            "--2023-06-28 15:52:06--  https://ucd25144d25f982191827ead2cee.dl.dropboxusercontent.com/cd/0/inline/B-3tNcHADd8KQBEPNi7f7jGpK7TVkDVCzWMKeT_NGwpHS-fQ7v_EQhgCYqUuCrI7vFtTVSnTL9nXCa465smdiu7Y1MLBUGj_yiWtxjCXiSR5aRUtzb4X4r4bguwW8uRfMYPRJkARo_qaPY0Ap3EAT4H5bYslEgbnpRwNJGkJ4Mah3Q/file\n",
            "Resolving ucd25144d25f982191827ead2cee.dl.dropboxusercontent.com (ucd25144d25f982191827ead2cee.dl.dropboxusercontent.com)... 162.125.65.15, 2620:100:6021:15::a27d:410f\n",
            "Connecting to ucd25144d25f982191827ead2cee.dl.dropboxusercontent.com (ucd25144d25f982191827ead2cee.dl.dropboxusercontent.com)|162.125.65.15|:443... connected.\n",
            "HTTP request sent, awaiting response... 302 Found\n",
            "Location: /cd/0/inline2/B-3oFnt2Iw89-jBi6c9kiDrqO3H7MKjEMP18V782BZ5hWyd8wOuhszBDOzKjOWt1E-kHymh1Ut_3aTelfpEAG0AGdIRoUPN9j_lLbJT9Kx1xNpTZHSjRJsS5JCXbCe8oYRA88PzU4YX3dzRHmucdO8g4is35yeHYakEjwNg_l7KLYt6pGh3uzJAdD2ZM1ggqkei5cJRhvN4XPHv712DN_Gy4OwoRn0bnJMOFFB7kykWcUReWY3TQtbnEgs5HKROm2DqIydbnpGWadbzHiQ17hDuZLkltEwOBjpMDoqasL-rn6o8ZmvwTatFkaom-nQf6WMO1i6savDMvWszu6KjObmpD0vdkcSeXw-StR5kEh1VNFsFyr6rjQIje8VOhTgbmQG1F7zVBLxzQ4DWSrzFqkzsaLcXfmcO_rxbKDbiwhFaNAQ/file [following]\n",
            "--2023-06-28 15:52:07--  https://ucd25144d25f982191827ead2cee.dl.dropboxusercontent.com/cd/0/inline2/B-3oFnt2Iw89-jBi6c9kiDrqO3H7MKjEMP18V782BZ5hWyd8wOuhszBDOzKjOWt1E-kHymh1Ut_3aTelfpEAG0AGdIRoUPN9j_lLbJT9Kx1xNpTZHSjRJsS5JCXbCe8oYRA88PzU4YX3dzRHmucdO8g4is35yeHYakEjwNg_l7KLYt6pGh3uzJAdD2ZM1ggqkei5cJRhvN4XPHv712DN_Gy4OwoRn0bnJMOFFB7kykWcUReWY3TQtbnEgs5HKROm2DqIydbnpGWadbzHiQ17hDuZLkltEwOBjpMDoqasL-rn6o8ZmvwTatFkaom-nQf6WMO1i6savDMvWszu6KjObmpD0vdkcSeXw-StR5kEh1VNFsFyr6rjQIje8VOhTgbmQG1F7zVBLxzQ4DWSrzFqkzsaLcXfmcO_rxbKDbiwhFaNAQ/file\n",
            "Reusing existing connection to ucd25144d25f982191827ead2cee.dl.dropboxusercontent.com:443.\n",
            "HTTP request sent, awaiting response... 200 OK\n",
            "Length: 88097875 (84M) [application/zip]\n",
            "Saving to: ‘Tumors3.zip’\n",
            "\n",
            "Tumors3.zip         100%[===================>]  84.02M  29.5MB/s    in 2.8s    \n",
            "\n",
            "2023-06-28 15:52:10 (29.5 MB/s) - ‘Tumors3.zip’ saved [88097875/88097875]\n",
            "\n"
          ]
        }
      ],
      "source": [
        "!wget -O Tumors.zip https://www.dropbox.com/s/ymd7eg2mucnm4hp/kjjj.zip?dl=0\n",
        "!wget -O Tumors2.zip https://www.dropbox.com/s/vchsqodcr4oid49/archive%20%285%29.zip?dl=0\n",
        "!wget -O Tumors3.zip https://www.dropbox.com/s/d327vnslutc6c6z/archive%20%286%29.zip?dl=0"
      ]
    },
    {
      "cell_type": "markdown",
      "source": [
        "The files are installed as .zip , so we use the zipfile package in order to extract all the files into a new folder."
      ],
      "metadata": {
        "id": "p0zcgzfVDXfD"
      }
    },
    {
      "cell_type": "code",
      "execution_count": null,
      "metadata": {
        "id": "pTc2fUZ7Nwpu"
      },
      "outputs": [],
      "source": [
        "zip_ref = \"/content/Tumors.zip\"\n",
        "ext = zipfile.ZipFile(zip_ref,'r')\n",
        "ext.extractall(\"Project\")\n",
        "ext.close()\n",
        "\n",
        "zip_ref2 = \"/content/Tumors2.zip\"\n",
        "ext = zipfile.ZipFile(zip_ref2,'r')\n",
        "ext.extractall(\"Project\")\n",
        "ext.close()\n",
        "\n",
        "zip_ref3 = \"/content/Tumors3.zip\"\n",
        "ext = zipfile.ZipFile(zip_ref3,'r')\n",
        "ext.extractall(\"Project\")\n",
        "ext.close()\n",
        "\n",
        "\n",
        "shutil.rmtree(\"/content/Project/brain_tumor_dataset\")\n"
      ]
    },
    {
      "cell_type": "markdown",
      "source": [
        "A method used to create directories in order to store the images present in the datasets."
      ],
      "metadata": {
        "id": "Gc3VvPL0DiTi"
      }
    },
    {
      "cell_type": "code",
      "execution_count": null,
      "metadata": {
        "id": "DxVuA3taQjnH"
      },
      "outputs": [],
      "source": [
        "def create_directories(dir):\n",
        "   tr = os.path.join(dir,\"training\")\n",
        "   os.makedirs(tr,exist_ok=True)\n",
        "   va = os.path.join(dir,\"validation\")\n",
        "   os.makedirs(va,exist_ok=True)\n",
        "   b = [\"yes\",\"no\"]\n",
        "   for a in b:\n",
        "    os.makedirs(os.path.join(tr,a),exist_ok=True)\n",
        "    os.makedirs(os.path.join(va,a),exist_ok=True)\n"
      ]
    },
    {
      "cell_type": "markdown",
      "source": [
        "Another method which splits the data from a given directory, into two other directories in a ratio of 4:1.\n",
        "\n",
        "The method is used to split a bunch of images, such that some of them are copied to the training directory, and the rest of them are copied to the validation directory."
      ],
      "metadata": {
        "id": "1MKiSOeDDso4"
      }
    },
    {
      "cell_type": "code",
      "execution_count": null,
      "metadata": {
        "id": "By7BH-YfRd_H"
      },
      "outputs": [],
      "source": [
        "def split_data(SOURCE_DIR,TRAINING_DIR,VALIDATION_DIR):\n",
        "    k = os.listdir(SOURCE_DIR)\n",
        "    a = random.sample(k,len(k))\n",
        "    count = 0\n",
        "    #the 0.8, shows that 80% of the data goes to the trianing directory\n",
        "    limit = len(a) * 0.8\n",
        "    for image in a:\n",
        "      if(count<=limit):\n",
        "        copy2(os.path.join(SOURCE_DIR,image),TRAINING_DIR)\n",
        "        count+=1\n",
        "      else:\n",
        "        copy2(os.path.join(SOURCE_DIR,image),VALIDATION_DIR)\n"
      ]
    },
    {
      "cell_type": "code",
      "execution_count": null,
      "metadata": {
        "id": "68a4hdvhVr2M"
      },
      "outputs": [],
      "source": [
        "create_directories(\"/content/\")\n",
        "split_data(\"/content/Project/yes\",\"/content/training/yes\",\"/content/validation/yes\")\n",
        "split_data(\"/content/Project/no\",\"/content/training/no\",\"/content/validation/no\")\n",
        "split_data(\"/content/Project/Brain_Tumor_Detection/yes\",\"/content/training/yes\",\"/content/validation/yes\")\n",
        "split_data(\"/content/Project/Brain_Tumor_Detection/no\",\"/content/training/no\",\"/content/validation/no\")\n"
      ]
    },
    {
      "cell_type": "markdown",
      "source": [
        "Here, I use ImageDataGenerator in order to augment the images in order to train the model more effectively.\n",
        "\n",
        "We also use flow_from_directory to resize the images to a particular size and provide images for the model"
      ],
      "metadata": {
        "id": "yncTrUQWEnkk"
      }
    },
    {
      "cell_type": "code",
      "execution_count": null,
      "metadata": {
        "colab": {
          "base_uri": "https://localhost:8080/"
        },
        "id": "YAMIgBZ5hSIx",
        "outputId": "1a316ebd-8a6a-4586-d508-b27d6e87d441"
      },
      "outputs": [
        {
          "output_type": "stream",
          "name": "stdout",
          "text": [
            "Found 3079 images belonging to 2 classes.\n",
            "Found 1129 images belonging to 2 classes.\n"
          ]
        }
      ],
      "source": [
        "from tensorflow.keras.preprocessing.image import ImageDataGenerator\n",
        "\n",
        "train_datagen = ImageDataGenerator(rescale = 1./255,\n",
        "                                   rotation_range = 10,\n",
        "                                   height_shift_range = 0.1,\n",
        "                                   width_shift_range = 0.1,\n",
        "                                   zoom_range = 0.2,\n",
        "                                   horizontal_flip = True,\n",
        "                                   brightness_range = (0.8,1.2),\n",
        "                                   fill_mode = 'nearest'\n",
        "                                   )\n",
        "\n",
        "train_gen =train_datagen.flow_from_directory(\"/content/training\",target_size=(200,200),class_mode='binary',batch_size = 16)\n",
        "validation_datagen = ImageDataGenerator(rescale=1./255)\n",
        "validation_gen = validation_datagen.flow_from_directory(\"/content/validation\",target_size=(200,200),class_mode='binary',batch_size = 16)"
      ]
    },
    {
      "cell_type": "markdown",
      "source": [
        "This is the model used.\n",
        "\n",
        "There are 4 Convolutional Layers(with L2 regularizers), followed by Pooling layers. This is followed by a flatten layer, followed by 3 Dense layers.\n",
        "\n",
        "As there are only two outputs i.e. yes or no, we use 1 neuron in the last layer with a sigmoid activation."
      ],
      "metadata": {
        "id": "IG0v6xOXE78h"
      }
    },
    {
      "cell_type": "code",
      "execution_count": null,
      "metadata": {
        "id": "unEPpBmMjrh3"
      },
      "outputs": [],
      "source": [
        "import tensorflow as tf\n",
        "model = tf.keras.models.Sequential([\n",
        "    tf.keras.layers.Conv2D(32,(3,3),activation='relu',input_shape =(200,200,3),kernel_regularizer=regularizers.l2(0.01)),\n",
        "    tf.keras.layers.MaxPooling2D(2,2),\n",
        "    tf.keras.layers.Conv2D(64,(3,3),activation='relu',kernel_regularizer=regularizers.l2(0.01)),\n",
        "    tf.keras.layers.BatchNormalization(axis=-1),\n",
        "    tf.keras.layers.MaxPooling2D(2,2),\n",
        "    tf.keras.layers.Conv2D(64,(3,3),activation='relu',kernel_regularizer=regularizers.l2(0.01)),\n",
        "    tf.keras.layers.BatchNormalization(axis=-1),\n",
        "    tf.keras.layers.MaxPooling2D(2,2),\n",
        "    tf.keras.layers.Conv2D(64,(3,3),activation='relu',kernel_regularizer=regularizers.l2(0.01)),\n",
        "    tf.keras.layers.BatchNormalization(axis=-1),\n",
        "    tf.keras.layers.MaxPooling2D(2,2),\n",
        "    tf.keras.layers.Flatten(),\n",
        "    tf.keras.layers.Dense(1024,activation='relu'),\n",
        "    tf.keras.layers.Dense(512,activation='relu'),\n",
        "    tf.keras.layers.Dense(1,activation = 'sigmoid') ])\n",
        "\n"
      ]
    },
    {
      "cell_type": "markdown",
      "source": [
        "Here we compile it with the adam optimizer, and use the binary crossentropy loss function.\n",
        "\n",
        "We train the model for a 100 epochs, and in batch sizes of 16."
      ],
      "metadata": {
        "id": "Cx2xxqyoFmDV"
      }
    },
    {
      "cell_type": "code",
      "execution_count": null,
      "metadata": {
        "id": "A2uInAjrkXVk"
      },
      "outputs": [],
      "source": [
        "model.compile(loss = 'binary_crossentropy',optimizer = 'adam',metrics = [\"accuracy\"])\n",
        "\n",
        "model.fit(train_gen, epochs = 100,validation_data=validation_gen)"
      ]
    },
    {
      "cell_type": "markdown",
      "source": [
        "Here, you can upload images of MRI scans of the brain, through which the model predicts whether the images show a presence of a tumor or not."
      ],
      "metadata": {
        "id": "H5AIq3blIyih"
      }
    },
    {
      "cell_type": "code",
      "source": [
        "import numpy as np\n",
        "from google.colab import files\n",
        "from tensorflow.keras.utils import load_img, img_to_array\n",
        "\n",
        "uploaded = files.upload()\n",
        "\n",
        "for fn in uploaded.keys():\n",
        "\n",
        "  # predicting images\n",
        "  path = '/content/' + fn\n",
        "  img = load_img(path, target_size=(300, 300))\n",
        "  x = img_to_array(img)\n",
        "  x /= 255\n",
        "  x = np.expand_dims(x, axis=0)\n",
        "\n",
        "  images = np.vstack([x])\n",
        "  classes = model.predict(images, batch_size=10)\n",
        "  print(classes[0])\n",
        "\n",
        "  if classes[0]>0.5:\n",
        "    print(fn + \" does not have a tumor present\")\n",
        "  else:\n",
        "    print(fn + \" has a tumor present\")"
      ],
      "metadata": {
        "id": "RlpTu-524Z4n"
      },
      "execution_count": null,
      "outputs": []
    }
  ],
  "metadata": {
    "colab": {
      "provenance": [],
      "gpuType": "T4"
    },
    "kernelspec": {
      "display_name": "Python 3",
      "name": "python3"
    },
    "language_info": {
      "name": "python"
    },
    "accelerator": "GPU"
  },
  "nbformat": 4,
  "nbformat_minor": 0
}